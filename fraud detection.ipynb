{
 "cells": [
  {
   "cell_type": "markdown",
   "id": "bbe7542a-00ac-48db-9964-876ff93a0216",
   "metadata": {},
   "source": [
    "<H1><center>Model For Predicting Fraudulent Transactions</H1></center>"
   ]
  },
  {
   "cell_type": "code",
   "execution_count": 6,
   "id": "d477bfdb-81a9-46d2-bd25-ccab19aad0d1",
   "metadata": {},
   "outputs": [],
   "source": [
    "import pandas as pd\n",
    "from sklearn.model_selection import train_test_split\n",
    "from sklearn.ensemble import RandomForestClassifier\n",
    "from sklearn.metrics import accuracy_score, classification_report, confusion_matrix\n",
    "from sklearn.preprocessing import LabelEncoder\n",
    "import matplotlib.pyplot as plt\n",
    "import seaborn as sns\n",
    "import warnings\n",
    "warnings.filterwarnings('ignore')\n",
    "%matplotlib inline"
   ]
  },
  {
   "cell_type": "code",
   "execution_count": 7,
   "id": "9f76ddca-ed45-4207-918d-33db66683f67",
   "metadata": {},
   "outputs": [],
   "source": [
    "# Load the CSV data\n",
    "df = pd.read_csv('fraud.csv')"
   ]
  },
  {
   "cell_type": "markdown",
   "id": "53681221-6ef4-44e1-b7cd-1be022676a71",
   "metadata": {},
   "source": [
    "<h2>Information About the Data</h2>"
   ]
  },
  {
   "cell_type": "code",
   "execution_count": 8,
   "id": "cbbda1fc-55f7-4163-9e6a-f99d536888a5",
   "metadata": {},
   "outputs": [
    {
     "data": {
      "text/html": [
       "<div>\n",
       "<style scoped>\n",
       "    .dataframe tbody tr th:only-of-type {\n",
       "        vertical-align: middle;\n",
       "    }\n",
       "\n",
       "    .dataframe tbody tr th {\n",
       "        vertical-align: top;\n",
       "    }\n",
       "\n",
       "    .dataframe thead th {\n",
       "        text-align: right;\n",
       "    }\n",
       "</style>\n",
       "<table border=\"1\" class=\"dataframe\">\n",
       "  <thead>\n",
       "    <tr style=\"text-align: right;\">\n",
       "      <th></th>\n",
       "      <th>step</th>\n",
       "      <th>type</th>\n",
       "      <th>amount</th>\n",
       "      <th>nameOrig</th>\n",
       "      <th>oldbalanceOrg</th>\n",
       "      <th>newbalanceOrig</th>\n",
       "      <th>nameDest</th>\n",
       "      <th>oldbalanceDest</th>\n",
       "      <th>newbalanceDest</th>\n",
       "      <th>isFraud</th>\n",
       "      <th>isFlaggedFraud</th>\n",
       "    </tr>\n",
       "  </thead>\n",
       "  <tbody>\n",
       "    <tr>\n",
       "      <th>0</th>\n",
       "      <td>1</td>\n",
       "      <td>PAYMENT</td>\n",
       "      <td>9839.64</td>\n",
       "      <td>C1231006815</td>\n",
       "      <td>170136.00</td>\n",
       "      <td>160296.36</td>\n",
       "      <td>M1979787155</td>\n",
       "      <td>0.0</td>\n",
       "      <td>0.00</td>\n",
       "      <td>0</td>\n",
       "      <td>0</td>\n",
       "    </tr>\n",
       "    <tr>\n",
       "      <th>1</th>\n",
       "      <td>1</td>\n",
       "      <td>PAYMENT</td>\n",
       "      <td>1864.28</td>\n",
       "      <td>C1666544295</td>\n",
       "      <td>21249.00</td>\n",
       "      <td>19384.72</td>\n",
       "      <td>M2044282225</td>\n",
       "      <td>0.0</td>\n",
       "      <td>0.00</td>\n",
       "      <td>0</td>\n",
       "      <td>0</td>\n",
       "    </tr>\n",
       "    <tr>\n",
       "      <th>2</th>\n",
       "      <td>1</td>\n",
       "      <td>TRANSFER</td>\n",
       "      <td>181.00</td>\n",
       "      <td>C1305486145</td>\n",
       "      <td>181.00</td>\n",
       "      <td>0.00</td>\n",
       "      <td>C553264065</td>\n",
       "      <td>0.0</td>\n",
       "      <td>0.00</td>\n",
       "      <td>1</td>\n",
       "      <td>0</td>\n",
       "    </tr>\n",
       "    <tr>\n",
       "      <th>3</th>\n",
       "      <td>1</td>\n",
       "      <td>CASH_OUT</td>\n",
       "      <td>181.00</td>\n",
       "      <td>C840083671</td>\n",
       "      <td>181.00</td>\n",
       "      <td>0.00</td>\n",
       "      <td>C38997010</td>\n",
       "      <td>21182.0</td>\n",
       "      <td>0.00</td>\n",
       "      <td>1</td>\n",
       "      <td>0</td>\n",
       "    </tr>\n",
       "    <tr>\n",
       "      <th>4</th>\n",
       "      <td>1</td>\n",
       "      <td>PAYMENT</td>\n",
       "      <td>11668.14</td>\n",
       "      <td>C2048537720</td>\n",
       "      <td>41554.00</td>\n",
       "      <td>29885.86</td>\n",
       "      <td>M1230701703</td>\n",
       "      <td>0.0</td>\n",
       "      <td>0.00</td>\n",
       "      <td>0</td>\n",
       "      <td>0</td>\n",
       "    </tr>\n",
       "    <tr>\n",
       "      <th>5</th>\n",
       "      <td>1</td>\n",
       "      <td>PAYMENT</td>\n",
       "      <td>7817.71</td>\n",
       "      <td>C90045638</td>\n",
       "      <td>53860.00</td>\n",
       "      <td>46042.29</td>\n",
       "      <td>M573487274</td>\n",
       "      <td>0.0</td>\n",
       "      <td>0.00</td>\n",
       "      <td>0</td>\n",
       "      <td>0</td>\n",
       "    </tr>\n",
       "    <tr>\n",
       "      <th>6</th>\n",
       "      <td>1</td>\n",
       "      <td>PAYMENT</td>\n",
       "      <td>7107.77</td>\n",
       "      <td>C154988899</td>\n",
       "      <td>183195.00</td>\n",
       "      <td>176087.23</td>\n",
       "      <td>M408069119</td>\n",
       "      <td>0.0</td>\n",
       "      <td>0.00</td>\n",
       "      <td>0</td>\n",
       "      <td>0</td>\n",
       "    </tr>\n",
       "    <tr>\n",
       "      <th>7</th>\n",
       "      <td>1</td>\n",
       "      <td>PAYMENT</td>\n",
       "      <td>7861.64</td>\n",
       "      <td>C1912850431</td>\n",
       "      <td>176087.23</td>\n",
       "      <td>168225.59</td>\n",
       "      <td>M633326333</td>\n",
       "      <td>0.0</td>\n",
       "      <td>0.00</td>\n",
       "      <td>0</td>\n",
       "      <td>0</td>\n",
       "    </tr>\n",
       "    <tr>\n",
       "      <th>8</th>\n",
       "      <td>1</td>\n",
       "      <td>PAYMENT</td>\n",
       "      <td>4024.36</td>\n",
       "      <td>C1265012928</td>\n",
       "      <td>2671.00</td>\n",
       "      <td>0.00</td>\n",
       "      <td>M1176932104</td>\n",
       "      <td>0.0</td>\n",
       "      <td>0.00</td>\n",
       "      <td>0</td>\n",
       "      <td>0</td>\n",
       "    </tr>\n",
       "    <tr>\n",
       "      <th>9</th>\n",
       "      <td>1</td>\n",
       "      <td>DEBIT</td>\n",
       "      <td>5337.77</td>\n",
       "      <td>C712410124</td>\n",
       "      <td>41720.00</td>\n",
       "      <td>36382.23</td>\n",
       "      <td>C195600860</td>\n",
       "      <td>41898.0</td>\n",
       "      <td>40348.79</td>\n",
       "      <td>0</td>\n",
       "      <td>0</td>\n",
       "    </tr>\n",
       "  </tbody>\n",
       "</table>\n",
       "</div>"
      ],
      "text/plain": [
       "   step      type    amount     nameOrig  oldbalanceOrg  newbalanceOrig  \\\n",
       "0     1   PAYMENT   9839.64  C1231006815      170136.00       160296.36   \n",
       "1     1   PAYMENT   1864.28  C1666544295       21249.00        19384.72   \n",
       "2     1  TRANSFER    181.00  C1305486145         181.00            0.00   \n",
       "3     1  CASH_OUT    181.00   C840083671         181.00            0.00   \n",
       "4     1   PAYMENT  11668.14  C2048537720       41554.00        29885.86   \n",
       "5     1   PAYMENT   7817.71    C90045638       53860.00        46042.29   \n",
       "6     1   PAYMENT   7107.77   C154988899      183195.00       176087.23   \n",
       "7     1   PAYMENT   7861.64  C1912850431      176087.23       168225.59   \n",
       "8     1   PAYMENT   4024.36  C1265012928        2671.00            0.00   \n",
       "9     1     DEBIT   5337.77   C712410124       41720.00        36382.23   \n",
       "\n",
       "      nameDest  oldbalanceDest  newbalanceDest  isFraud  isFlaggedFraud  \n",
       "0  M1979787155             0.0            0.00        0               0  \n",
       "1  M2044282225             0.0            0.00        0               0  \n",
       "2   C553264065             0.0            0.00        1               0  \n",
       "3    C38997010         21182.0            0.00        1               0  \n",
       "4  M1230701703             0.0            0.00        0               0  \n",
       "5   M573487274             0.0            0.00        0               0  \n",
       "6   M408069119             0.0            0.00        0               0  \n",
       "7   M633326333             0.0            0.00        0               0  \n",
       "8  M1176932104             0.0            0.00        0               0  \n",
       "9   C195600860         41898.0        40348.79        0               0  "
      ]
     },
     "execution_count": 8,
     "metadata": {},
     "output_type": "execute_result"
    }
   ],
   "source": [
    "df.head(10)"
   ]
  },
  {
   "cell_type": "code",
   "execution_count": 9,
   "id": "574034f9-5d29-404a-9193-6b647f6973d6",
   "metadata": {},
   "outputs": [
    {
     "name": "stdout",
     "output_type": "stream",
     "text": [
      "step              0\n",
      "type              0\n",
      "amount            0\n",
      "nameOrig          0\n",
      "oldbalanceOrg     0\n",
      "newbalanceOrig    0\n",
      "nameDest          0\n",
      "oldbalanceDest    0\n",
      "newbalanceDest    0\n",
      "isFraud           0\n",
      "isFlaggedFraud    0\n",
      "dtype: int64\n"
     ]
    }
   ],
   "source": [
    "# Check for missing values\n",
    "print(df.isnull().sum())"
   ]
  },
  {
   "cell_type": "code",
   "execution_count": 10,
   "id": "14079c2d-b783-4525-90a5-6057552c0520",
   "metadata": {},
   "outputs": [
    {
     "name": "stdout",
     "output_type": "stream",
     "text": [
      "               step        amount  oldbalanceOrg  newbalanceOrig  \\\n",
      "count  6.362620e+06  6.362620e+06   6.362620e+06    6.362620e+06   \n",
      "mean   2.433972e+02  1.798619e+05   8.338831e+05    8.551137e+05   \n",
      "std    1.423320e+02  6.038582e+05   2.888243e+06    2.924049e+06   \n",
      "min    1.000000e+00  0.000000e+00   0.000000e+00    0.000000e+00   \n",
      "25%    1.560000e+02  1.338957e+04   0.000000e+00    0.000000e+00   \n",
      "50%    2.390000e+02  7.487194e+04   1.420800e+04    0.000000e+00   \n",
      "75%    3.350000e+02  2.087215e+05   1.073152e+05    1.442584e+05   \n",
      "max    7.430000e+02  9.244552e+07   5.958504e+07    4.958504e+07   \n",
      "\n",
      "       oldbalanceDest  newbalanceDest       isFraud  isFlaggedFraud  \n",
      "count    6.362620e+06    6.362620e+06  6.362620e+06    6.362620e+06  \n",
      "mean     1.100702e+06    1.224996e+06  1.290820e-03    2.514687e-06  \n",
      "std      3.399180e+06    3.674129e+06  3.590480e-02    1.585775e-03  \n",
      "min      0.000000e+00    0.000000e+00  0.000000e+00    0.000000e+00  \n",
      "25%      0.000000e+00    0.000000e+00  0.000000e+00    0.000000e+00  \n",
      "50%      1.327057e+05    2.146614e+05  0.000000e+00    0.000000e+00  \n",
      "75%      9.430367e+05    1.111909e+06  0.000000e+00    0.000000e+00  \n",
      "max      3.560159e+08    3.561793e+08  1.000000e+00    1.000000e+00  \n"
     ]
    }
   ],
   "source": [
    "# Explore basic statistics of the numerical columns\n",
    "print(df.describe())"
   ]
  },
  {
   "cell_type": "markdown",
   "id": "d6c1f450-0ddc-4052-b477-539d750b8c02",
   "metadata": {},
   "source": [
    "<h2>Data Cleaning and Preprocessing</h2>"
   ]
  },
  {
   "cell_type": "code",
   "execution_count": 11,
   "id": "5523bd3e-84e1-4a17-9613-a4d85da2af1b",
   "metadata": {},
   "outputs": [],
   "source": [
    "# Feature engineering and preprocessing\n",
    "label_encoder = LabelEncoder()\n",
    "df['type_encoded'] = label_encoder.fit_transform(df['type'])\n",
    "\n",
    "# Drop duplicates\n",
    "df.drop_duplicates(inplace=True)\n",
    "\n",
    "# Dropping 'type' column if it still exists\n",
    "if 'type' in df.columns:\n",
    "    df.drop(['type', 'nameOrig', 'nameDest'], axis=1, inplace=True)\n",
    "else:\n",
    "    print(\"Column 'type' not found after removing duplicates.\")\n",
    "\n"
   ]
  },
  {
   "cell_type": "markdown",
   "id": "5822c847-b1c3-49ef-add7-ff5c9e18528c",
   "metadata": {},
   "source": [
    "<h2>Splitting Data</h2>"
   ]
  },
  {
   "cell_type": "code",
   "execution_count": 12,
   "id": "458d83ce-9eaf-4a15-b944-4a630c69629a",
   "metadata": {},
   "outputs": [],
   "source": [
    "# Splitting the data into features (X) and target variable (y)\n",
    "X = df.drop(['isFraud', 'isFlaggedFraud'], axis=1)\n",
    "y = df['isFraud']"
   ]
  },
  {
   "cell_type": "code",
   "execution_count": 13,
   "id": "aaa645d7-f4e5-4976-a940-9d892ced8a9b",
   "metadata": {},
   "outputs": [],
   "source": [
    "# Splitting the data into training and testing sets\n",
    "X_train, X_test, y_train, y_test = train_test_split(X, y, train_size=0.2, random_state=42)"
   ]
  },
  {
   "cell_type": "markdown",
   "id": "70034315-e996-4f9c-ade9-c5e3cf784d9f",
   "metadata": {},
   "source": [
    "<h2>Training the Model</h2>"
   ]
  },
  {
   "cell_type": "code",
   "execution_count": 14,
   "id": "42a68572-87a0-42c3-a2e7-205d69b0fb3c",
   "metadata": {},
   "outputs": [
    {
     "data": {
      "text/html": [
       "<style>#sk-container-id-1 {color: black;}#sk-container-id-1 pre{padding: 0;}#sk-container-id-1 div.sk-toggleable {background-color: white;}#sk-container-id-1 label.sk-toggleable__label {cursor: pointer;display: block;width: 100%;margin-bottom: 0;padding: 0.3em;box-sizing: border-box;text-align: center;}#sk-container-id-1 label.sk-toggleable__label-arrow:before {content: \"▸\";float: left;margin-right: 0.25em;color: #696969;}#sk-container-id-1 label.sk-toggleable__label-arrow:hover:before {color: black;}#sk-container-id-1 div.sk-estimator:hover label.sk-toggleable__label-arrow:before {color: black;}#sk-container-id-1 div.sk-toggleable__content {max-height: 0;max-width: 0;overflow: hidden;text-align: left;background-color: #f0f8ff;}#sk-container-id-1 div.sk-toggleable__content pre {margin: 0.2em;color: black;border-radius: 0.25em;background-color: #f0f8ff;}#sk-container-id-1 input.sk-toggleable__control:checked~div.sk-toggleable__content {max-height: 200px;max-width: 100%;overflow: auto;}#sk-container-id-1 input.sk-toggleable__control:checked~label.sk-toggleable__label-arrow:before {content: \"▾\";}#sk-container-id-1 div.sk-estimator input.sk-toggleable__control:checked~label.sk-toggleable__label {background-color: #d4ebff;}#sk-container-id-1 div.sk-label input.sk-toggleable__control:checked~label.sk-toggleable__label {background-color: #d4ebff;}#sk-container-id-1 input.sk-hidden--visually {border: 0;clip: rect(1px 1px 1px 1px);clip: rect(1px, 1px, 1px, 1px);height: 1px;margin: -1px;overflow: hidden;padding: 0;position: absolute;width: 1px;}#sk-container-id-1 div.sk-estimator {font-family: monospace;background-color: #f0f8ff;border: 1px dotted black;border-radius: 0.25em;box-sizing: border-box;margin-bottom: 0.5em;}#sk-container-id-1 div.sk-estimator:hover {background-color: #d4ebff;}#sk-container-id-1 div.sk-parallel-item::after {content: \"\";width: 100%;border-bottom: 1px solid gray;flex-grow: 1;}#sk-container-id-1 div.sk-label:hover label.sk-toggleable__label {background-color: #d4ebff;}#sk-container-id-1 div.sk-serial::before {content: \"\";position: absolute;border-left: 1px solid gray;box-sizing: border-box;top: 0;bottom: 0;left: 50%;z-index: 0;}#sk-container-id-1 div.sk-serial {display: flex;flex-direction: column;align-items: center;background-color: white;padding-right: 0.2em;padding-left: 0.2em;position: relative;}#sk-container-id-1 div.sk-item {position: relative;z-index: 1;}#sk-container-id-1 div.sk-parallel {display: flex;align-items: stretch;justify-content: center;background-color: white;position: relative;}#sk-container-id-1 div.sk-item::before, #sk-container-id-1 div.sk-parallel-item::before {content: \"\";position: absolute;border-left: 1px solid gray;box-sizing: border-box;top: 0;bottom: 0;left: 50%;z-index: -1;}#sk-container-id-1 div.sk-parallel-item {display: flex;flex-direction: column;z-index: 1;position: relative;background-color: white;}#sk-container-id-1 div.sk-parallel-item:first-child::after {align-self: flex-end;width: 50%;}#sk-container-id-1 div.sk-parallel-item:last-child::after {align-self: flex-start;width: 50%;}#sk-container-id-1 div.sk-parallel-item:only-child::after {width: 0;}#sk-container-id-1 div.sk-dashed-wrapped {border: 1px dashed gray;margin: 0 0.4em 0.5em 0.4em;box-sizing: border-box;padding-bottom: 0.4em;background-color: white;}#sk-container-id-1 div.sk-label label {font-family: monospace;font-weight: bold;display: inline-block;line-height: 1.2em;}#sk-container-id-1 div.sk-label-container {text-align: center;}#sk-container-id-1 div.sk-container {/* jupyter's `normalize.less` sets `[hidden] { display: none; }` but bootstrap.min.css set `[hidden] { display: none !important; }` so we also need the `!important` here to be able to override the default hidden behavior on the sphinx rendered scikit-learn.org. See: https://github.com/scikit-learn/scikit-learn/issues/21755 */display: inline-block !important;position: relative;}#sk-container-id-1 div.sk-text-repr-fallback {display: none;}</style><div id=\"sk-container-id-1\" class=\"sk-top-container\"><div class=\"sk-text-repr-fallback\"><pre>RandomForestClassifier(n_jobs=-1, random_state=42)</pre><b>In a Jupyter environment, please rerun this cell to show the HTML representation or trust the notebook. <br />On GitHub, the HTML representation is unable to render, please try loading this page with nbviewer.org.</b></div><div class=\"sk-container\" hidden><div class=\"sk-item\"><div class=\"sk-estimator sk-toggleable\"><input class=\"sk-toggleable__control sk-hidden--visually\" id=\"sk-estimator-id-1\" type=\"checkbox\" checked><label for=\"sk-estimator-id-1\" class=\"sk-toggleable__label sk-toggleable__label-arrow\">RandomForestClassifier</label><div class=\"sk-toggleable__content\"><pre>RandomForestClassifier(n_jobs=-1, random_state=42)</pre></div></div></div></div></div>"
      ],
      "text/plain": [
       "RandomForestClassifier(n_jobs=-1, random_state=42)"
      ]
     },
     "execution_count": 14,
     "metadata": {},
     "output_type": "execute_result"
    }
   ],
   "source": [
    "# Create and train the model\n",
    "model = RandomForestClassifier(n_estimators=100, random_state=42, n_jobs=-1)\n",
    "model.fit(X_train, y_train)"
   ]
  },
  {
   "cell_type": "code",
   "execution_count": 15,
   "id": "ba4fc939-1e5b-43ff-8b85-9bd782574b46",
   "metadata": {},
   "outputs": [],
   "source": [
    "# Make predictions on the test set\n",
    "y_pred = model.predict(X_test)"
   ]
  },
  {
   "cell_type": "markdown",
   "id": "7651d6af-fe40-4b24-b301-0ec380ec5fa9",
   "metadata": {},
   "source": [
    "<h2>Model Evaluation</h2>"
   ]
  },
  {
   "cell_type": "code",
   "execution_count": 16,
   "id": "12b16063-664a-43da-91c0-15a9e41385ae",
   "metadata": {},
   "outputs": [],
   "source": [
    "# Evaluate the model\n",
    "accuracy = accuracy_score(y_test, y_pred)\n",
    "conf_matrix = confusion_matrix(y_test, y_pred)\n",
    "classification_rep = classification_report(y_test, y_pred)"
   ]
  },
  {
   "cell_type": "code",
   "execution_count": 17,
   "id": "5493657e-f0d2-4148-80f2-9bcb4cd2d26f",
   "metadata": {},
   "outputs": [
    {
     "name": "stdout",
     "output_type": "stream",
     "text": [
      "Accuracy: 0.9996732871049976\n",
      "Confusion Matrix:\n",
      "[[5083389      97]\n",
      " [   1566    5044]]\n",
      "Classification Report:\n",
      "              precision    recall  f1-score   support\n",
      "\n",
      "           0       1.00      1.00      1.00   5083486\n",
      "           1       0.98      0.76      0.86      6610\n",
      "\n",
      "    accuracy                           1.00   5090096\n",
      "   macro avg       0.99      0.88      0.93   5090096\n",
      "weighted avg       1.00      1.00      1.00   5090096\n",
      "\n"
     ]
    }
   ],
   "source": [
    "print(f'Accuracy: {accuracy}')\n",
    "print('Confusion Matrix:')\n",
    "print(conf_matrix)\n",
    "print('Classification Report:')\n",
    "print(classification_rep)"
   ]
  },
  {
   "cell_type": "markdown",
   "id": "7ec6612f-7d3e-4712-893e-8490c12dcf4d",
   "metadata": {},
   "source": [
    "<h2><b>Visualization</h2></b>"
   ]
  },
  {
   "cell_type": "markdown",
   "id": "b36eee0a-9010-4c2a-a5d1-bd0d465e2577",
   "metadata": {},
   "source": [
    "<H2>Distribution of Fraudulent Transactions</H2>"
   ]
  },
  {
   "cell_type": "code",
   "execution_count": 18,
   "id": "d5f0b61c-73e2-408d-b7a5-bb08adc3ee89",
   "metadata": {},
   "outputs": [
    {
     "data": {
      "image/png": "[encoded data removed]",
      "text/plain": [
       "<Figure size 600x400 with 1 Axes>"
      ]
     },
     "metadata": {},
     "output_type": "display_data"
    }
   ],
   "source": [
    "# Visualize the distribution of the target variable 'isFraud'\n",
    "plt.figure(figsize=(6, 4))\n",
    "sns.countplot(x='isFraud', data=df)\n",
    "plt.title('Distribution of Fraudulent Transactions')\n",
    "plt.ylabel('Count')\n",
    "plt.xlabel('Is Fraud (0: No, 1: Yes)')\n",
    "plt.show()\n"
   ]
  },
  {
   "cell_type": "markdown",
   "id": "5c93eaf5-c464-4ba5-8bb1-dab1c612523b",
   "metadata": {},
   "source": [
    "<H2>Key Factors Predicting Fraudulent Transactions</H2>"
   ]
  },
  {
   "cell_type": "code",
   "execution_count": 19,
   "id": "66794d74-f2fe-4ff2-a4a7-72c3743c3d5f",
   "metadata": {},
   "outputs": [],
   "source": [
    "feature_importances = model.feature_importances_"
   ]
  },
  {
   "cell_type": "code",
   "execution_count": 20,
   "id": "a5f6b2cf-432c-4d8a-a42d-31a5e6933ab2",
   "metadata": {},
   "outputs": [],
   "source": [
    "importance_df = pd.DataFrame({'Feature': X.columns, 'Importance': feature_importances})\n",
    "importance_df = importance_df.sort_values(by='Importance', ascending=False)\n"
   ]
  },
  {
   "cell_type": "code",
   "execution_count": 21,
   "id": "e97dbb1a-538a-41ff-9881-98ce81fd5c4b",
   "metadata": {},
   "outputs": [
    {
     "data": {
      "image/png": "[encoded data removed]",
      "text/plain": [
       "<Figure size 1000x600 with 1 Axes>"
      ]
     },
     "metadata": {},
     "output_type": "display_data"
    }
   ],
   "source": [
    "plt.figure(figsize=(10, 6))\n",
    "sns.barplot(x='Importance', y='Feature', data=importance_df, palette='pastel')\n",
    "plt.title('Key Factors Predicting Fraudulent Transactions')\n",
    "plt.xlabel('Importance')\n",
    "plt.ylabel('Feature')\n",
    "plt.show()"
   ]
  },
  {
   "cell_type": "markdown",
   "id": "d3ac2cdb-e3ea-418b-bbd7-683fbddfbd0f",
   "metadata": {},
   "source": [
    "<h3></h3>"
   ]
  },
  {
   "cell_type": "markdown",
   "id": "815720f0-4610-4237-99b4-d40f7f2d3538",
   "metadata": {},
   "source": [
    "<ul><h3><li>Fraudulent customers may show a tendency to initiate transactions with lower initial balances and involve larger amounts.\n",
    "Monitoring accounts with these characteristics could be a valuable strategy for detecting potential fraudulent activities.</h3></li>\n",
    "<h3><li>Pattern Recognition: By considering both the originating and destination account balances, our model can learn patterns associated with legitimate transactions and identify deviations that may signal potential fraud</h3></ul></li>"
   ]
  },
  {
   "cell_type": "code",
   "execution_count": null,
   "id": "61de2434-d6a0-428c-a3e4-cb11528c17da",
   "metadata": {},
   "outputs": [],
   "source": [
    "# Example visualization code (assumes 'df' is your DataFrame)\n",
    "\n",
    "plt.figure(figsize=(6, 6))\n",
    "sns.scatterplot(x='oldbalanceOrg', y='amount', hue='isFraud', data=df, alpha=0.5)\n",
    "plt.title('Scatter Plot of oldbalanceOrg vs. amount')\n",
    "plt.xlabel('oldbalanceOrg')\n",
    "plt.ylabel('amount')\n",
    "plt.show()"
   ]
  },
  {
   "cell_type": "markdown",
   "id": "d6f70b33-9a08-4584-a6d7-8da81f50364d",
   "metadata": {},
   "source": [
    "<H3>Explanation-</H3>\n",
    "<h4>Cluster around (0, 0.0):\n",
    "A concentration of points around (0, 0.0) suggests a pattern where transactions originate from an account with an 'oldbalanceOrg' close to zero, and the destination account ('newbalanceDest') ends up with a balance of 0.0.\n",
    "<h4>Emptying Destination Accounts:\n",
    "This pattern might be indicative of transactions aimed at completely emptying the funds from the destination account after the transaction.</h4>"
   ]
  },
  {
   "cell_type": "markdown",
   "id": "657bd3d2-57e7-4322-b4f9-5c7fca0071b4",
   "metadata": {},
   "source": [
    "<h1> Fraud Detection Model Elaboration</h1>\n",
    "\n",
    "<body><p>Data Loading and Preprocessing:\n",
    "The dataset is loaded using Pandas (pd.read_csv('fraud.csv')).\n",
    "Label encoding is applied to the 'type' column, creating a new column 'type_encoded'. Columns 'type', 'nameOrig', and 'nameDest' are dropped from the DataFrame.\n",
    "\n",
    "Train-Test Split:\n",
    "The data is split into features (X) and the target variable (y).\t\n",
    "The 'isFraud' and 'isFlaggedFraud' columns are dropped from the features (X).\n",
    "The dataset is further split into training and testing sets using train_test_split.\n",
    "\n",
    "Random Forest Model Creation:\n",
    "A Random Forest model is created using RandomForestClassifier.\n",
    "The model is trained on the training data (model.fit(X_train, y_train)).\n",
    "\n",
    "Making Predictions:\n",
    "Predictions are made on the test set using model.predict(X_test).\n",
    "\n",
    "Model Evaluation:\n",
    "The model's performance is evaluated using metrics such as accuracy, confusion matrix, and classification report.\n",
    "\n",
    "Visualizations:\n",
    "The distribution of the target variable 'isFraud' is visualized using sns.countplot.\n",
    "Feature importances are calculated using model.feature_importances_.The importance scores are visualized using a bar plot (sns.barplot) to identify key factors predicting fraudulent transactions.</p></body>\n"
   ]
  },
  {
   "cell_type": "markdown",
   "id": "faf172a2-d72a-4099-8104-b54220e9acdb",
   "metadata": {},
   "source": [
    "<h1>Variable Selection in Model</h1>\n",
    "<p>Label Encoding:\n",
    "The 'type' column is label-encoded to convert categorical data into numerical format. The encoded values are stored in a new column called 'type_encoded'. This is a common step when dealing with machine learning algorithms that require numerical input.\n",
    "\n",
    "Column Dropping:\n",
    "Columns 'type', 'nameOrig', and 'nameDest' are dropped using the drop method. The rationale for dropping these columns may include:\n",
    "'type': Since machine learning models typically require numerical input, categorical variables like 'type' are encoded and the original column is dropped.\n",
    "'nameOrig' and 'nameDest': These columns might be dropped if they are considered unnecessary for the modeling process.\n",
    "Names or identifiers may not be relevant features for fraud detection, and removing them could simplify the model.\n",
    "</p>\n",
    "<p>In summary, the variables selected for inclusion in the model are those that remain after label encoding and dropping unnecessary columns. \n",
    "The key features used for training the Random Forest model include the features related to the transaction itself \n",
    "(e.g., 'amount', 'oldbalanceOrg', 'newbalanceOrig', 'oldbalanceDest', 'newbalanceDest') and the encoded 'type' column.\n",
    "The target variable is 'isFraud'. The decision to drop certain columns is often based on domain knowledge, feature importance analysis, or the nature of the problem being addressed.</p>"
   ]
  },
  {
   "cell_type": "markdown",
   "id": "cd1dacac-0faf-4b01-80ff-9d757dcea9ca",
   "metadata": {},
   "source": [
    "<H3><B>Prevention Techniques which can  be adopted</B></H3>\n",
    "<body>prevention which can  be adopted while company update its infrastructure\n",
    "\n",
    "Authentication and Authorization:\n",
    "Implement strong authentication mechanisms and strict authorization controls to verify the identity of users and control their access to critical systems and data.\n",
    "Real-time Monitoring and Anomaly Detection:\n",
    "\n",
    "Deploy real-time monitoring systems with anomaly detection capabilities to identify unusual patterns or activities that may indicate potential fraud.\n",
    "Multi-Factor Authentication (MFA):\n",
    "\n",
    "Enforce multi-factor authentication for user accounts, adding an extra layer of security beyond passwords to prevent unauthorized access.\n",
    "\n",
    "Fraud Analytics and Machine Learning Models:\n",
    "Integrate advanced fraud analytics and machine learning models to automatically detect and flag suspicious transactions or behaviors.</body>"
   ]
  },
  {
   "cell_type": "markdown",
   "id": "ef2c7b01-086a-4774-89a9-afd7cd5fa084",
   "metadata": {},
   "source": [
    "<h3><b>Assuming these actions have been implemented, how would you they work</b></h3>\n",
    "<body>Monitoring Login Attempts:\n",
    "Metric: Track successful and unsuccessful login attempts.\n",
    "Evaluation: A decrease in unauthorized access attempts indicates improved authentication.\n",
    "Testing: Perform penetration testing to identify vulnerabilities.\n",
    "\n",
    "Penetration Testing:\n",
    "<ul><li>Metric: Conduct tests to identify vulnerabilities.</li>\n",
    "<li>Evaluation: Success indicates addressed weaknesses.</li>\n",
    "<li>Testing: Regularly perform penetration testing.</li></ul>\n",
    "\n",
    "Multi-Factor Authentication (MFA):\n",
    "\n",
    "<li>Metric: Monitor successful logins with MFA.</li>\n",
    "<li>Evaluation: Increased MFA use indicates success.</li>\n",
    "<li>Testing: Simulate attacks to verify MFA effectiveness.</li>\n",
    "</br>\n",
    "\n",
    "<b>To determine if the implemented actions for fraud analytics and machine learning models are effective, follow these evaluation steps:</b>\n",
    "<h2>Evaluation Metrics:</h2>\n",
    "\n",
    "<li>Precision, Recall, and F1 Score: Calculate precision (positive predictive value), recall (sensitivity), and F1 score to measure the model's ability to identify fraud while minimizing false positives.</li>\n",
    "\n",
    "Area Under the ROC Curve (AUC-ROC): Evaluate the model's overall performance by examining the ROC curve and AUC-ROC.\n",
    "\n",
    "<li>Confusion Matrix Analysis:\n",
    "True Positives (TP), True Negatives (TN), False Positives (FP), False Negatives (FN): Analyze the confusion matrix to understand where the model is making errors and adjust thresholds accordingly.</body></li>\n"
   ]
  },
  {
   "cell_type": "markdown",
   "id": "7c219608-29f2-4e2c-ab9e-ffd15af7d1c8",
   "metadata": {},
   "source": [
    "<H1>Class Imbalancement</H1>"
   ]
  },
  {
   "cell_type": "code",
   "execution_count": 23,
   "id": "3e31323e-ca88-4c44-a7de-8076233b7a32",
   "metadata": {},
   "outputs": [],
   "source": [
    "from imblearn.over_sampling import RandomOverSampler\n",
    "from imblearn.under_sampling import RandomUnderSampler"
   ]
  },
  {
   "cell_type": "code",
   "execution_count": 24,
   "id": "500296cc-455a-46d8-b23e-4f803a44340b",
   "metadata": {},
   "outputs": [
    {
     "name": "stdout",
     "output_type": "stream",
     "text": [
      "Column 'type' not found.\n"
     ]
    }
   ],
   "source": [
    "# Feature engineering and preprocessing\n",
    "if 'type' in df.columns:\n",
    "    label_encoder = LabelEncoder()\n",
    "    df['type_encoded'] = label_encoder.fit_transform(df['type'])\n",
    "\n",
    "    # Drop duplicates\n",
    "    df.drop_duplicates(inplace=True)\n",
    "\n",
    "    # Check if 'type' column exists before dropping it\n",
    "    if 'type' in df.columns:\n",
    "        df.drop(['type', 'nameOrig', 'nameDest'], axis=1, inplace=True)\n",
    "    else:\n",
    "        print(\"Column 'type' not found after removing duplicates.\")\n",
    "\n",
    "    # Splitting the data into features (X) and target variable (y)\n",
    "    X = df.drop(['isFraud', 'isFlaggedFraud'], axis=1)\n",
    "    y = df['isFraud']\n",
    "else:\n",
    "    print(\"Column 'type' not found.\")\n"
   ]
  },
  {
   "cell_type": "code",
   "execution_count": 25,
   "id": "16433d26-491c-4c67-9fdc-45d940b72039",
   "metadata": {},
   "outputs": [],
   "source": [
    "# Balancing the classes using Random Over-Sampling\n",
    "over_sampler = RandomOverSampler(sampling_strategy=0.5, random_state=42)\n",
    "X_over, y_over = over_sampler.fit_resample(X, y)"
   ]
  },
  {
   "cell_type": "code",
   "execution_count": 26,
   "id": "d9fddd9a-3f6b-4ed2-a16c-4e3bf60800e4",
   "metadata": {},
   "outputs": [],
   "source": [
    "# Balancing the classes using Random Under-Sampling\n",
    "under_sampler = RandomUnderSampler(sampling_strategy=1.0, random_state=42)\n",
    "X_resampled, y_resampled = under_sampler.fit_resample(X_over, y_over)"
   ]
  },
  {
   "cell_type": "code",
   "execution_count": 27,
   "id": "87bac047-0aa5-4e41-b0ea-e3bc60925ebe",
   "metadata": {},
   "outputs": [
    {
     "data": {
      "text/html": [
       "<style>#sk-container-id-2 {color: black;}#sk-container-id-2 pre{padding: 0;}#sk-container-id-2 div.sk-toggleable {background-color: white;}#sk-container-id-2 label.sk-toggleable__label {cursor: pointer;display: block;width: 100%;margin-bottom: 0;padding: 0.3em;box-sizing: border-box;text-align: center;}#sk-container-id-2 label.sk-toggleable__label-arrow:before {content: \"▸\";float: left;margin-right: 0.25em;color: #696969;}#sk-container-id-2 label.sk-toggleable__label-arrow:hover:before {color: black;}#sk-container-id-2 div.sk-estimator:hover label.sk-toggleable__label-arrow:before {color: black;}#sk-container-id-2 div.sk-toggleable__content {max-height: 0;max-width: 0;overflow: hidden;text-align: left;background-color: #f0f8ff;}#sk-container-id-2 div.sk-toggleable__content pre {margin: 0.2em;color: black;border-radius: 0.25em;background-color: #f0f8ff;}#sk-container-id-2 input.sk-toggleable__control:checked~div.sk-toggleable__content {max-height: 200px;max-width: 100%;overflow: auto;}#sk-container-id-2 input.sk-toggleable__control:checked~label.sk-toggleable__label-arrow:before {content: \"▾\";}#sk-container-id-2 div.sk-estimator input.sk-toggleable__control:checked~label.sk-toggleable__label {background-color: #d4ebff;}#sk-container-id-2 div.sk-label input.sk-toggleable__control:checked~label.sk-toggleable__label {background-color: #d4ebff;}#sk-container-id-2 input.sk-hidden--visually {border: 0;clip: rect(1px 1px 1px 1px);clip: rect(1px, 1px, 1px, 1px);height: 1px;margin: -1px;overflow: hidden;padding: 0;position: absolute;width: 1px;}#sk-container-id-2 div.sk-estimator {font-family: monospace;background-color: #f0f8ff;border: 1px dotted black;border-radius: 0.25em;box-sizing: border-box;margin-bottom: 0.5em;}#sk-container-id-2 div.sk-estimator:hover {background-color: #d4ebff;}#sk-container-id-2 div.sk-parallel-item::after {content: \"\";width: 100%;border-bottom: 1px solid gray;flex-grow: 1;}#sk-container-id-2 div.sk-label:hover label.sk-toggleable__label {background-color: #d4ebff;}#sk-container-id-2 div.sk-serial::before {content: \"\";position: absolute;border-left: 1px solid gray;box-sizing: border-box;top: 0;bottom: 0;left: 50%;z-index: 0;}#sk-container-id-2 div.sk-serial {display: flex;flex-direction: column;align-items: center;background-color: white;padding-right: 0.2em;padding-left: 0.2em;position: relative;}#sk-container-id-2 div.sk-item {position: relative;z-index: 1;}#sk-container-id-2 div.sk-parallel {display: flex;align-items: stretch;justify-content: center;background-color: white;position: relative;}#sk-container-id-2 div.sk-item::before, #sk-container-id-2 div.sk-parallel-item::before {content: \"\";position: absolute;border-left: 1px solid gray;box-sizing: border-box;top: 0;bottom: 0;left: 50%;z-index: -1;}#sk-container-id-2 div.sk-parallel-item {display: flex;flex-direction: column;z-index: 1;position: relative;background-color: white;}#sk-container-id-2 div.sk-parallel-item:first-child::after {align-self: flex-end;width: 50%;}#sk-container-id-2 div.sk-parallel-item:last-child::after {align-self: flex-start;width: 50%;}#sk-container-id-2 div.sk-parallel-item:only-child::after {width: 0;}#sk-container-id-2 div.sk-dashed-wrapped {border: 1px dashed gray;margin: 0 0.4em 0.5em 0.4em;box-sizing: border-box;padding-bottom: 0.4em;background-color: white;}#sk-container-id-2 div.sk-label label {font-family: monospace;font-weight: bold;display: inline-block;line-height: 1.2em;}#sk-container-id-2 div.sk-label-container {text-align: center;}#sk-container-id-2 div.sk-container {/* jupyter's `normalize.less` sets `[hidden] { display: none; }` but bootstrap.min.css set `[hidden] { display: none !important; }` so we also need the `!important` here to be able to override the default hidden behavior on the sphinx rendered scikit-learn.org. See: https://github.com/scikit-learn/scikit-learn/issues/21755 */display: inline-block !important;position: relative;}#sk-container-id-2 div.sk-text-repr-fallback {display: none;}</style><div id=\"sk-container-id-2\" class=\"sk-top-container\"><div class=\"sk-text-repr-fallback\"><pre>RandomForestClassifier(n_jobs=-1, random_state=42)</pre><b>In a Jupyter environment, please rerun this cell to show the HTML representation or trust the notebook. <br />On GitHub, the HTML representation is unable to render, please try loading this page with nbviewer.org.</b></div><div class=\"sk-container\" hidden><div class=\"sk-item\"><div class=\"sk-estimator sk-toggleable\"><input class=\"sk-toggleable__control sk-hidden--visually\" id=\"sk-estimator-id-2\" type=\"checkbox\" checked><label for=\"sk-estimator-id-2\" class=\"sk-toggleable__label sk-toggleable__label-arrow\">RandomForestClassifier</label><div class=\"sk-toggleable__content\"><pre>RandomForestClassifier(n_jobs=-1, random_state=42)</pre></div></div></div></div></div>"
      ],
      "text/plain": [
       "RandomForestClassifier(n_jobs=-1, random_state=42)"
      ]
     },
     "execution_count": 27,
     "metadata": {},
     "output_type": "execute_result"
    }
   ],
   "source": [
    "# Splitting the resampled data into training and testing sets\n",
    "X_train, X_test, y_train, y_test = train_test_split(X_resampled, y_resampled, train_size=0.8, random_state=42)\n",
    "\n",
    "# Create and train the model\n",
    "model = RandomForestClassifier(n_estimators=100, random_state=42, n_jobs=-1)\n",
    "model.fit(X_train, y_train)"
   ]
  },
  {
   "cell_type": "code",
   "execution_count": 28,
   "id": "5538cba6-ae0f-44e4-a685-cdba4dfb5247",
   "metadata": {},
   "outputs": [],
   "source": [
    "# Make predictions on the test set\n",
    "y_pred = model.predict(X_test)\n"
   ]
  },
  {
   "cell_type": "code",
   "execution_count": 29,
   "id": "9a58d36a-2fb2-4506-88c5-270bc743fbec",
   "metadata": {},
   "outputs": [
    {
     "name": "stdout",
     "output_type": "stream",
     "text": [
      "Accuracy: 0.9999291830398102\n",
      "Confusion Matrix:\n",
      "[[634954     90]\n",
      " [     0 635838]]\n",
      "Classification Report:\n",
      "              precision    recall  f1-score   support\n",
      "\n",
      "           0       1.00      1.00      1.00    635044\n",
      "           1       1.00      1.00      1.00    635838\n",
      "\n",
      "    accuracy                           1.00   1270882\n",
      "   macro avg       1.00      1.00      1.00   1270882\n",
      "weighted avg       1.00      1.00      1.00   1270882\n",
      "\n"
     ]
    }
   ],
   "source": [
    "# Evaluate the model\n",
    "accuracy = accuracy_score(y_test, y_pred)\n",
    "conf_matrix = confusion_matrix(y_test, y_pred)\n",
    "classification_rep = classification_report(y_test, y_pred)\n",
    "print(f'Accuracy: {accuracy}')\n",
    "print('Confusion Matrix:')\n",
    "print(conf_matrix)\n",
    "print('Classification Report:')\n",
    "print(classification_rep)"
   ]
  },
  {
   "cell_type": "code",
   "execution_count": 30,
   "id": "373579f3-cc22-464e-a49e-be4cc34014ef",
   "metadata": {},
   "outputs": [
    {
     "data": {
      "image/png": "[encoded data removed]",
      "text/plain": [
       "<Figure size 600x400 with 1 Axes>"
      ]
     },
     "metadata": {},
     "output_type": "display_data"
    }
   ],
   "source": [
    "# Visualize the distribution of the target variable 'isFraud'\n",
    "plt.figure(figsize=(6, 4))\n",
    "sns.countplot(x='isFraud', data=pd.DataFrame(y_resampled, columns=['isFraud']))\n",
    "plt.title('Distribution of Balanced Classes')\n",
    "plt.ylabel('Count')\n",
    "plt.xlabel('Is Fraud (0: No, 1: Yes)')\n",
    "plt.show()\n"
   ]
  },
  {
   "cell_type": "code",
   "execution_count": 31,
   "id": "a388a566-ce66-485f-a657-37a2b66288de",
   "metadata": {},
   "outputs": [
    {
     "data": {
      "image/png": "[encoded data removed]",
      "text/plain": [
       "<Figure size 1000x600 with 1 Axes>"
      ]
     },
     "metadata": {},
     "output_type": "display_data"
    }
   ],
   "source": [
    "# Visualize the feature importances\n",
    "feature_importances = model.feature_importances_\n",
    "importance_df = pd.DataFrame({'Feature': X.columns, 'Importance': feature_importances})\n",
    "importance_df = importance_df.sort_values(by='Importance', ascending=False)\n",
    "plt.figure(figsize=(10, 6))\n",
    "sns.barplot(x='Importance', y='Feature', data=importance_df, palette='pastel')\n",
    "plt.title('Key Factors Predicting Fraudulent Transactions')\n",
    "plt.xlabel('Importance')\n",
    "plt.ylabel('Feature')\n",
    "plt.show()"
   ]
  },
  {
   "cell_type": "code",
   "execution_count": null,
   "id": "f3ec7b58-d8e2-4604-a255-dabd361a5ecb",
   "metadata": {},
   "outputs": [],
   "source": []
  },
  {
   "cell_type": "code",
   "execution_count": null,
   "id": "871f14aa-b466-4e2b-ada7-63c7e112e79f",
   "metadata": {},
   "outputs": [],
   "source": []
  },
  {
   "cell_type": "code",
   "execution_count": null,
   "id": "202f2837-1a68-45f3-b8cd-5d35f216d00d",
   "metadata": {},
   "outputs": [],
   "source": []
  }
 ],
 "metadata": {
  "kernelspec": {
   "display_name": "Python 3 (ipykernel)",
   "language": "python",
   "name": "python3"
  },
  "language_info": {
   "codemirror_mode": {
    "name": "ipython",
    "version": 3
   },
   "file_extension": ".py",
   "mimetype": "text/x-python",
   "name": "python",
   "nbconvert_exporter": "python",
   "pygments_lexer": "ipython3",
   "version": "3.12.0"
  }
 },
 "nbformat": 4,
 "nbformat_minor": 5
}
